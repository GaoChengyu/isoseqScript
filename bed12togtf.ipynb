{
 "cells": [
  {
   "cell_type": "code",
   "execution_count": 5,
   "metadata": {},
   "outputs": [],
   "source": [
    "\n",
    "\n",
    "def readbed():\n",
    "    with open(\"/mnt/d/data/XN21/isoseq/all_transcript_merge/MC_tama.bed\",'r') as f1:\n",
    "        for line in f1:\n",
    "            line=line.strip().split('\\t')\n",
    "            yield line\n",
    "def getTranscript():\n",
    "    with open(\"/mnt/d/data/XN21/isoseq/all_transcript_merge/transcrpt2.gtf\",'w') as w:\n",
    "            for line in readbed():\n",
    "                chr_,start,end,name,a_,strand,b_,c_,rgb,d_,block,blocksit=line\n",
    "                gene=name.split(\";\")[0]\n",
    "                transcript=name.split(\";\")[1]\n",
    "                block=block.split(\",\")\n",
    "                blocksit=blocksit.split(\",\")\n",
    "                exonlist=[]\n",
    "                for i in range(len(block)):\n",
    "                    if i==0:\n",
    "                        exonstart=int(start)\n",
    "                    else:\n",
    "                        exonstart=int(start)+int(blocksit[i])+1\n",
    "                    exonend=int(start)+int(blocksit[i])+int(block[i])\n",
    "                    exonlist.append((exonstart,exonend))\n",
    "                if rgb==\"255,100,0\":\n",
    "                    source=\"ssRNA-Seq\"\n",
    "                else:\n",
    "                    source=\"Iso-Seq\"\n",
    "                w.write(f'{chr_}\\t{source}\\ttranscript\\t{start}\\t{end}\\t.\\t{strand}\\t.\\tgene_id \\\"{gene}\\\"; transcript_id \\\"{transcript}\\\"\\n')\n",
    "                for exon in exonlist:\n",
    "                    exec(r\"w.write(f'{chr_}\\t{source}\\texon\\t{exon[0]}\\t{exon[1]}\\t.\\t{strand}\\t.\\tgene_id \\\"{gene}\\\"; transcript_id \\\"{transcript}\\\"\\n')\")\n",
    "\n",
    "\n",
    "\n",
    "getTranscript()\n",
    "\n",
    "\n",
    "\n",
    "\n",
    "\n"
   ]
  }
 ],
 "metadata": {
  "interpreter": {
   "hash": "0ef3e534dc5e03904827e40499ef94c7712ee85293658be361c77b7c52532680"
  },
  "kernelspec": {
   "display_name": "Python 3.9.12 ('base')",
   "language": "python",
   "name": "python3"
  },
  "language_info": {
   "codemirror_mode": {
    "name": "ipython",
    "version": 3
   },
   "file_extension": ".py",
   "mimetype": "text/x-python",
   "name": "python",
   "nbconvert_exporter": "python",
   "pygments_lexer": "ipython3",
   "version": "3.9.12"
  },
  "orig_nbformat": 4
 },
 "nbformat": 4,
 "nbformat_minor": 2
}
